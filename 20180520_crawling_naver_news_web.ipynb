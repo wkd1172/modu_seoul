{
 "cells": [
  {
   "cell_type": "code",
   "execution_count": 1,
   "metadata": {},
   "outputs": [],
   "source": [
    "import pandas as pd\n",
    "import numpy as np\n",
    "import requests \n",
    "from itertools import count\n",
    "from bs4 import BeautifulSoup"
   ]
  },
  {
   "cell_type": "code",
   "execution_count": 2,
   "metadata": {},
   "outputs": [],
   "source": [
    "url = \"https://search.naver.com/search.naver?&where=news&query=%EB%8F%84%EC%8B%9C%EB%AC%B8%EC%A0%9C%20%22%EB%8F%84%EC%8B%9C%EB%AC%B8%EC%A0%9C%22&sm=tab_pge&sort=0&photo=0&field=0&reporter_article=&pd=0&ds=&de=&docid=&nso=so:r,p:all,a:all&mynews=0&cluster_rank=43&start=1&refresh_start=0\"\n",
    "url_main,url_params = url.split(\"?\",1)"
   ]
  },
  {
   "cell_type": "code",
   "execution_count": 4,
   "metadata": {},
   "outputs": [
    {
     "data": {
      "text/plain": [
       "'https://search.naver.com/search.naver'"
      ]
     },
     "execution_count": 4,
     "metadata": {},
     "output_type": "execute_result"
    }
   ],
   "source": [
    "url_main"
   ]
  },
  {
   "cell_type": "code",
   "execution_count": 5,
   "metadata": {},
   "outputs": [
    {
     "data": {
      "text/plain": [
       "'&where=news&query=%EB%8F%84%EC%8B%9C%EB%AC%B8%EC%A0%9C%20%22%EB%8F%84%EC%8B%9C%EB%AC%B8%EC%A0%9C%22&sm=tab_pge&sort=0&photo=0&field=0&reporter_article=&pd=0&ds=&de=&docid=&nso=so:r,p:all,a:all&mynews=0&cluster_rank=43&start=1&refresh_start=0'"
      ]
     },
     "execution_count": 5,
     "metadata": {},
     "output_type": "execute_result"
    }
   ],
   "source": [
    "url_params"
   ]
  },
  {
   "cell_type": "code",
   "execution_count": 17,
   "metadata": {},
   "outputs": [
    {
     "data": {
      "text/plain": [
       "['where=news',\n",
       " 'query=%EB%8F%84%EC%8B%9C%EB%AC%B8%EC%A0%9C%20%22%EB%8F%84%EC%8B%9C%EB%AC%B8%EC%A0%9C%22',\n",
       " 'sm=tab_pge',\n",
       " 'sort=0',\n",
       " 'photo=0',\n",
       " 'field=0',\n",
       " 'reporter_article=',\n",
       " 'pd=0',\n",
       " 'ds=',\n",
       " 'de=',\n",
       " 'docid=',\n",
       " 'nso=so:r',\n",
       " 'p:all',\n",
       " 'a:all',\n",
       " 'mynews=0',\n",
       " 'cluster_rank=43',\n",
       " 'start=1',\n",
       " 'refresh_start=0']"
      ]
     },
     "execution_count": 17,
     "metadata": {},
     "output_type": "execute_result"
    }
   ],
   "source": [
    "url_params_2 = url_params.replace(\"&\",\",\").split(\",\")\n",
    "del url_params_2[0]\n",
    "url_params_2"
   ]
  },
  {
   "cell_type": "code",
   "execution_count": 16,
   "metadata": {},
   "outputs": [
    {
     "ename": "ValueError",
     "evalue": "not enough values to unpack (expected 2, got 1)",
     "output_type": "error",
     "traceback": [
      "\u001b[1;31m---------------------------------------------------------------------------\u001b[0m",
      "\u001b[1;31mValueError\u001b[0m                                Traceback (most recent call last)",
      "\u001b[1;32m<ipython-input-16-c5a5bd8cf2db>\u001b[0m in \u001b[0;36m<module>\u001b[1;34m()\u001b[0m\n\u001b[0;32m      1\u001b[0m \u001b[0mdata\u001b[0m \u001b[1;33m=\u001b[0m \u001b[1;33m{\u001b[0m\u001b[1;33m}\u001b[0m\u001b[1;33m\u001b[0m\u001b[0m\n\u001b[0;32m      2\u001b[0m \u001b[1;32mfor\u001b[0m \u001b[0mindex\u001b[0m \u001b[1;32min\u001b[0m \u001b[0murl_params\u001b[0m\u001b[1;33m:\u001b[0m\u001b[1;33m\u001b[0m\u001b[0m\n\u001b[1;32m----> 3\u001b[1;33m     \u001b[0mkey_a\u001b[0m\u001b[1;33m,\u001b[0m\u001b[0mvalue_a\u001b[0m \u001b[1;33m=\u001b[0m \u001b[0mindex\u001b[0m\u001b[1;33m.\u001b[0m\u001b[0msplit\u001b[0m\u001b[1;33m(\u001b[0m\u001b[1;34m\"=\"\u001b[0m\u001b[1;33m,\u001b[0m\u001b[1;36m1\u001b[0m\u001b[1;33m)\u001b[0m\u001b[1;33m\u001b[0m\u001b[0m\n\u001b[0m\u001b[0;32m      4\u001b[0m     \u001b[1;32mif\u001b[0m \u001b[0mkey_a\u001b[0m \u001b[1;33m==\u001b[0m \u001b[1;34m\"null\"\u001b[0m\u001b[1;33m:\u001b[0m\u001b[1;33m\u001b[0m\u001b[0m\n\u001b[0;32m      5\u001b[0m         \u001b[0mkey_a\u001b[0m \u001b[1;33m=\u001b[0m \u001b[1;32mNone\u001b[0m\u001b[1;33m\u001b[0m\u001b[0m\n",
      "\u001b[1;31mValueError\u001b[0m: not enough values to unpack (expected 2, got 1)"
     ]
    }
   ],
   "source": [
    "data = {}\n",
    "for index in url_params:\n",
    "    key_a,value_a = index.split(\"=\",1)\n",
    "    if key_a == \"null\":\n",
    "        key_a = None\n",
    "    if value_a == \"null\":\n",
    "        value_a = None\n",
    "    data[key_a] = value_a\n",
    "data"
   ]
  },
  {
   "cell_type": "markdown",
   "metadata": {},
   "source": [
    "상세 : https://search.naver.com/search.naver?&where=news&query=%22%EB%8F%84%EC%8B%9C%EB%AC%B8%EC%A0%9C%22&sm=tab_pge&sort=0&photo=0&field=0&reporter_article=&pd=0&ds=&de=&docid=&nso=so:r,p:all,a:all&mynews=0&cluster_rank=43&start=21&refresh_start=0\n",
    "3page\n",
    "\n",
    "일반 : https://search.naver.com/search.naver?sm=tab_dts&where=news&query=+%22%EB%8F%84%EC%8B%9C%EB%AC%B8%EC%A0%9C%22+&oquery=%EB%8F%84%EC%8B%9C%EB%AC%B8%EC%A0%9C+%22%EB%8F%84%EC%8B%9C%EB%AC%B8%EC%A0%9C%22&tqi=TwZtllpySDGssZRHp%2FwssssstwR-321709&qdt=1&qdt=0"
   ]
  },
  {
   "cell_type": "code",
   "execution_count": null,
   "metadata": {},
   "outputs": [],
   "source": [
    "url = \"https://search.naver.com/search.naver?&where=news&query=%22%EB%8F%84%EC%8B%9C%EB%AC%B8%EC%A0%9C%22&sm=tab_pge&sort=0&photo=0&field=0&reporter_article=&pd=0&ds=&de=&docid=&nso=so:r,p:all,a:all&mynews=0&cluster_rank=43&start=21&refresh_start=0\""
   ]
  },
  {
   "cell_type": "code",
   "execution_count": 18,
   "metadata": {},
   "outputs": [],
   "source": [
    "def url_trans(url):\n",
    "    url_main,url_params = url.split(\"?\",1)\n",
    "    url_params_2 = url_params.replace(\"&\",\",\").split(\",\")\n",
    "    del url_params_2[0]\n",
    "    return url_params_2"
   ]
  },
  {
   "cell_type": "code",
   "execution_count": 28,
   "metadata": {},
   "outputs": [],
   "source": [
    "compact_3p = url_trans(\"https://search.naver.com/search.naver?&where=news&query=%22%EB%8F%84%EC%8B%9C%EB%AC%B8%EC%A0%9C%22&sm=tab_pge&sort=0&photo=0&field=0&reporter_article=&pd=0&ds=&de=&docid=&nso=so:r,p:all,a:all&mynews=0&cluster_rank=43&start=21&refresh_start=0\")\n",
    "compact_3p_2 = url_trans(\"https://search.naver.com/search.naver?sm=tab_dts&where=news&query=+%22%EB%8F%84%EC%8B%9C%EB%AC%B8%EC%A0%9C22%22+&oquery=%22%EB%8F%84%EC%8B%9C%EB%AC%B8%EC%A0%9C%22&tqi=TwZtwlpySERsssR7IzdssssssG4-499572&qdt=1&nso=so%3Ar%2Cp%3Aall%2Ca%3Aall&sort=0&photo=0&field=0&reporter_article=&pd=0&ds=&de=&mynews=0&refresh_start=0\")\n",
    "compact_3p_3 = url_trans(\"https://search.naver.com/search.naver?sm=tab_dts&where=news&query=+%22%EB%8F%84%EC%8B%9C%EB%AC%B8%EC%A0%9C%22+&oquery=%22%EB%8F%84%EC%8B%9C%EB%AC%B8%EC%A0%9C22%22&tqi=TwZvKwpVuEKssZm6Y9VssssstC4-291287&qdt=1&nso=so%3Ar%2Cp%3Aall%2Ca%3Aall&qdt=1&sort=0&photo=0&field=0&reporter_article=&pd=0&ds=&de=&mynews=0&refresh_start=0\")\n",
    "regular = url_trans(\"https://search.naver.com/search.naver?where=news&query=%22%EB%8F%84%EC%8B%9C%EB%AC%B8%EC%A0%9C%22&sm=tab_dgs&qdt=0\")\n",
    "goal_com = url_trans(\"https://search.naver.com/search.naver?sm=tab_dts&where=news&query=%EB%8F%84%EC%8B%9C%EB%AC%B8%EC%A0%9C+%22%EB%8F%84%EC%8B%9C%EB%AC%B8%EC%A0%9C%22+&oquery=%EB%8F%84%EC%8B%9C%EB%AC%B8%EC%A0%9C&tqi=TwZZswpVuEVssuqevEKsssssteV-123150&qdt=1\")"
   ]
  },
  {
   "cell_type": "code",
   "execution_count": 34,
   "metadata": {},
   "outputs": [
    {
     "data": {
      "text/plain": [
       "['where=news',\n",
       " 'query=%22%EB%8F%84%EC%8B%9C%EB%AC%B8%EC%A0%9C%22',\n",
       " 'sm=tab_pge',\n",
       " 'sort=0',\n",
       " 'photo=0',\n",
       " 'field=0',\n",
       " 'reporter_article=',\n",
       " 'pd=0',\n",
       " 'ds=',\n",
       " 'de=',\n",
       " 'docid=',\n",
       " 'p:all',\n",
       " 'a:all',\n",
       " 'mynews=0',\n",
       " 'cluster_rank=43',\n",
       " 'start=21',\n",
       " 'refresh_start=0']"
      ]
     },
     "execution_count": 34,
     "metadata": {},
     "output_type": "execute_result"
    }
   ],
   "source": [
    "compact_3p = url_trans(\"https://search.naver.com/search.naver?&where=news&query=%22%EB%8F%84%EC%8B%9C%EB%AC%B8%EC%A0%9C%22&sm=tab_pge&sort=0&photo=0&field=0&reporter_article=&pd=0&ds=&de=&docid=&nso=so:r,p:all,a:all&mynews=0&cluster_rank=43&start=21&refresh_start=0\")\n",
    "del compact_3p[11]\n",
    "compact_3p"
   ]
  },
  {
   "cell_type": "code",
   "execution_count": 32,
   "metadata": {},
   "outputs": [
    {
     "ename": "ValueError",
     "evalue": "not enough values to unpack (expected 2, got 1)",
     "output_type": "error",
     "traceback": [
      "\u001b[1;31m---------------------------------------------------------------------------\u001b[0m",
      "\u001b[1;31mValueError\u001b[0m                                Traceback (most recent call last)",
      "\u001b[1;32m<ipython-input-32-2d40532b48b0>\u001b[0m in \u001b[0;36m<module>\u001b[1;34m()\u001b[0m\n\u001b[0;32m      4\u001b[0m \u001b[0mdata\u001b[0m \u001b[1;33m=\u001b[0m \u001b[1;33m{\u001b[0m\u001b[1;33m}\u001b[0m\u001b[1;33m\u001b[0m\u001b[0m\n\u001b[0;32m      5\u001b[0m \u001b[1;32mfor\u001b[0m \u001b[0mindex\u001b[0m \u001b[1;32min\u001b[0m \u001b[0mcompact_3p\u001b[0m\u001b[1;33m:\u001b[0m\u001b[1;33m\u001b[0m\u001b[0m\n\u001b[1;32m----> 6\u001b[1;33m     \u001b[0mkey_a\u001b[0m\u001b[1;33m,\u001b[0m\u001b[0mvalue_a\u001b[0m \u001b[1;33m=\u001b[0m \u001b[0mindex\u001b[0m\u001b[1;33m.\u001b[0m\u001b[0msplit\u001b[0m\u001b[1;33m(\u001b[0m\u001b[1;34m\"=\"\u001b[0m\u001b[1;33m)\u001b[0m\u001b[1;33m\u001b[0m\u001b[0m\n\u001b[0m\u001b[0;32m      7\u001b[0m     \u001b[1;32mif\u001b[0m \u001b[0mkey_a\u001b[0m \u001b[1;33m==\u001b[0m \u001b[1;34m\"null\"\u001b[0m\u001b[1;33m:\u001b[0m\u001b[1;33m\u001b[0m\u001b[0m\n\u001b[0;32m      8\u001b[0m         \u001b[0mkey_a\u001b[0m \u001b[1;33m=\u001b[0m \u001b[1;32mNone\u001b[0m\u001b[1;33m\u001b[0m\u001b[0m\n",
      "\u001b[1;31mValueError\u001b[0m: not enough values to unpack (expected 2, got 1)"
     ]
    }
   ],
   "source": [
    "\n",
    "data = {}\n",
    "for index in compact_3p:\n",
    "    key_a,value_a = index.split(\"=\")\n",
    "    if key_a == \"null\":\n",
    "        key_a = None\n",
    "    if value_a == \"null\":\n",
    "        value_a = None\n",
    "    data[key_a] = value_a\n",
    "data"
   ]
  },
  {
   "cell_type": "code",
   "execution_count": 25,
   "metadata": {},
   "outputs": [
    {
     "data": {
      "text/plain": [
       "['where=news',\n",
       " 'query=+%22%EB%8F%84%EC%8B%9C%EB%AC%B8%EC%A0%9C%22+',\n",
       " 'oquery=%22%EB%8F%84%EC%8B%9C%EB%AC%B8%EC%A0%9C22%22',\n",
       " 'tqi=TwZvKwpVuEKssZm6Y9VssssstC4-291287',\n",
       " 'qdt=1',\n",
       " 'nso=so%3Ar%2Cp%3Aall%2Ca%3Aall',\n",
       " 'qdt=1',\n",
       " 'sort=0',\n",
       " 'photo=0',\n",
       " 'field=0',\n",
       " 'reporter_article=',\n",
       " 'pd=0',\n",
       " 'ds=',\n",
       " 'de=',\n",
       " 'mynews=0',\n",
       " 'refresh_start=0']"
      ]
     },
     "execution_count": 25,
     "metadata": {},
     "output_type": "execute_result"
    }
   ],
   "source": [
    "compact_3p_3\n"
   ]
  },
  {
   "cell_type": "code",
   "execution_count": 27,
   "metadata": {},
   "outputs": [
    {
     "data": {
      "text/plain": [
       "['query=%22%EB%8F%84%EC%8B%9C%EB%AC%B8%EC%A0%9C%22', 'sm=tab_dgs', 'qdt=0']"
      ]
     },
     "execution_count": 27,
     "metadata": {},
     "output_type": "execute_result"
    }
   ],
   "source": [
    "regular"
   ]
  },
  {
   "cell_type": "code",
   "execution_count": 29,
   "metadata": {},
   "outputs": [
    {
     "data": {
      "text/plain": [
       "['where=news',\n",
       " 'query=%EB%8F%84%EC%8B%9C%EB%AC%B8%EC%A0%9C+%22%EB%8F%84%EC%8B%9C%EB%AC%B8%EC%A0%9C%22+',\n",
       " 'oquery=%EB%8F%84%EC%8B%9C%EB%AC%B8%EC%A0%9C',\n",
       " 'tqi=TwZZswpVuEVssuqevEKsssssteV-123150',\n",
       " 'qdt=1']"
      ]
     },
     "execution_count": 29,
     "metadata": {},
     "output_type": "execute_result"
    }
   ],
   "source": [
    "goal_com"
   ]
  },
  {
   "cell_type": "markdown",
   "metadata": {},
   "source": [
    "%22 = \" \n"
   ]
  },
  {
   "cell_type": "code",
   "execution_count": null,
   "metadata": {},
   "outputs": [],
   "source": [
    "url_main = \"https://search.naver.com/search.naver\"\n",
    "url_parmas = \"\""
   ]
  },
  {
   "cell_type": "code",
   "execution_count": null,
   "metadata": {},
   "outputs": [],
   "source": []
  },
  {
   "cell_type": "code",
   "execution_count": null,
   "metadata": {},
   "outputs": [],
   "source": []
  },
  {
   "cell_type": "code",
   "execution_count": null,
   "metadata": {},
   "outputs": [],
   "source": []
  },
  {
   "cell_type": "code",
   "execution_count": null,
   "metadata": {},
   "outputs": [],
   "source": []
  },
  {
   "cell_type": "code",
   "execution_count": null,
   "metadata": {},
   "outputs": [],
   "source": []
  },
  {
   "cell_type": "code",
   "execution_count": null,
   "metadata": {},
   "outputs": [],
   "source": []
  },
  {
   "cell_type": "code",
   "execution_count": null,
   "metadata": {},
   "outputs": [],
   "source": []
  },
  {
   "cell_type": "code",
   "execution_count": null,
   "metadata": {},
   "outputs": [],
   "source": []
  },
  {
   "cell_type": "code",
   "execution_count": null,
   "metadata": {},
   "outputs": [],
   "source": []
  },
  {
   "cell_type": "code",
   "execution_count": null,
   "metadata": {},
   "outputs": [],
   "source": []
  }
 ],
 "metadata": {
  "kernelspec": {
   "display_name": "Python 3",
   "language": "python",
   "name": "python3"
  },
  "language_info": {
   "codemirror_mode": {
    "name": "ipython",
    "version": 3
   },
   "file_extension": ".py",
   "mimetype": "text/x-python",
   "name": "python",
   "nbconvert_exporter": "python",
   "pygments_lexer": "ipython3",
   "version": "3.6.4"
  }
 },
 "nbformat": 4,
 "nbformat_minor": 2
}
