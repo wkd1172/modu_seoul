{
 "cells": [
  {
   "cell_type": "code",
   "execution_count": 55,
   "metadata": {},
   "outputs": [],
   "source": [
    "import pandas as pd\n",
    "import numpy as np\n",
    "import requests\n",
    "from bs4 import BeautifulSoup\n",
    "from itertools import count\n",
    "import re"
   ]
  },
  {
   "cell_type": "markdown",
   "metadata": {},
   "source": [
    " https://www1.president.go.kr/petitions\n",
    " page=N"
   ]
  },
  {
   "cell_type": "code",
   "execution_count": null,
   "metadata": {},
   "outputs": [],
   "source": []
  },
  {
   "cell_type": "code",
   "execution_count": 6,
   "metadata": {
    "scrolled": true
   },
   "outputs": [
    {
     "ename": "TypeError",
     "evalue": "'NoneType' object is not callable",
     "output_type": "error",
     "traceback": [
      "\u001b[1;31m---------------------------------------------------------------------------\u001b[0m",
      "\u001b[1;31mTypeError\u001b[0m                                 Traceback (most recent call last)",
      "\u001b[1;32m<ipython-input-6-c300b4ccab6b>\u001b[0m in \u001b[0;36m<module>\u001b[1;34m()\u001b[0m\n\u001b[0;32m     12\u001b[0m             \u001b[0mdata_1\u001b[0m\u001b[1;33m.\u001b[0m\u001b[0mappend\u001b[0m\u001b[1;33m(\u001b[0m\u001b[0mtag_2\u001b[0m\u001b[1;33m.\u001b[0m\u001b[0mfind\u001b[0m\u001b[1;33m(\u001b[0m\u001b[1;34m\"div\"\u001b[0m\u001b[1;33m,\u001b[0m\u001b[0mclass_\u001b[0m\u001b[1;33m=\u001b[0m\u001b[1;34m\"bl_category\"\u001b[0m\u001b[1;33m)\u001b[0m\u001b[1;33m)\u001b[0m\u001b[1;33m\u001b[0m\u001b[0m\n\u001b[0;32m     13\u001b[0m             \u001b[0mdata_1\u001b[0m\u001b[1;33m.\u001b[0m\u001b[0mappend\u001b[0m\u001b[1;33m(\u001b[0m\u001b[0mtag_2\u001b[0m\u001b[1;33m.\u001b[0m\u001b[0mselect\u001b[0m\u001b[1;33m(\u001b[0m\u001b[1;34m\".bl_subject a\"\u001b[0m\u001b[1;33m)\u001b[0m\u001b[1;33m[\u001b[0m\u001b[1;36m0\u001b[0m\u001b[1;33m]\u001b[0m\u001b[1;33m.\u001b[0m\u001b[0mtext\u001b[0m\u001b[1;33m)\u001b[0m\u001b[1;33m\u001b[0m\u001b[0m\n\u001b[1;32m---> 14\u001b[1;33m             \u001b[0mdata_1\u001b[0m\u001b[1;33m.\u001b[0m\u001b[0mappend\u001b[0m\u001b[1;33m(\u001b[0m\u001b[0mtag_2\u001b[0m\u001b[1;33m.\u001b[0m\u001b[0mselcet\u001b[0m\u001b[1;33m(\u001b[0m\u001b[1;34m\".bl_subject a\"\u001b[0m\u001b[1;33m)\u001b[0m\u001b[1;33m[\u001b[0m\u001b[1;36m0\u001b[0m\u001b[1;33m]\u001b[0m\u001b[1;33m[\u001b[0m\u001b[1;34m\"href\"\u001b[0m\u001b[1;33m]\u001b[0m\u001b[1;33m)\u001b[0m\u001b[1;33m\u001b[0m\u001b[0m\n\u001b[0m\u001b[0;32m     15\u001b[0m             \u001b[0mdata_1\u001b[0m\u001b[1;33m.\u001b[0m\u001b[0mappend\u001b[0m\u001b[1;33m(\u001b[0m\u001b[0mtag_2\u001b[0m\u001b[1;33m.\u001b[0m\u001b[0mfind\u001b[0m\u001b[1;33m(\u001b[0m\u001b[1;34m\"div\"\u001b[0m\u001b[1;33m,\u001b[0m\u001b[0mclass_\u001b[0m\u001b[1;33m=\u001b[0m \u001b[1;34m\"bl_name\"\u001b[0m\u001b[1;33m)\u001b[0m\u001b[1;33m)\u001b[0m\u001b[1;33m\u001b[0m\u001b[0m\n\u001b[0;32m     16\u001b[0m             \u001b[0mdata_1\u001b[0m\u001b[1;33m.\u001b[0m\u001b[0mappend\u001b[0m\u001b[1;33m(\u001b[0m\u001b[0mtag_2\u001b[0m\u001b[1;33m.\u001b[0m\u001b[0mfind\u001b[0m\u001b[1;33m(\u001b[0m\u001b[1;34m\"div\"\u001b[0m\u001b[1;33m,\u001b[0m\u001b[0mclass_\u001b[0m\u001b[1;33m=\u001b[0m\u001b[1;34m\"bl_date light\"\u001b[0m\u001b[1;33m)\u001b[0m\u001b[1;33m)\u001b[0m\u001b[1;33m\u001b[0m\u001b[0m\n",
      "\u001b[1;31mTypeError\u001b[0m: 'NoneType' object is not callable"
     ]
    }
   ],
   "source": [
    "url_main = \"https://www1.president.go.kr/petitions\"\n",
    "data_1 = []\n",
    "for page in range(1,20):\n",
    "    params = {\n",
    "         \"page\" : page\n",
    "    }\n",
    "    html = requests.get(url_main,params = params).text\n",
    "    soup = BeautifulSoup(html,\"html.parser\")\n",
    "    for tag in soup.select(\".bl_body li\"):\n",
    "        for tag_2 in tag.select(\".bl_wrap\"):\n",
    "            data_1.append(tag_2.find(\"div\", class_= \"bl_no\"))\n",
    "            data_1.append(tag_2.find(\"div\",class_=\"bl_category\"))\n",
    "            data_1.append(tag_2.select(\".bl_subject a\")[0].text)\n",
    "            data_1.append(tag_2.selcet(\".bl_subject a\")[0][\"href\"])\n",
    "            data_1.append(tag_2.find(\"div\",class_= \"bl_name\"))\n",
    "            data_1.append(tag_2.find(\"div\",class_=\"bl_date light\"))\n",
    "            data_1.append(tag_2.find(\"div\",class_=\"bl_agree\"))\n",
    "data_1"
   ]
  },
  {
   "cell_type": "code",
   "execution_count": 68,
   "metadata": {},
   "outputs": [
    {
     "name": "stdout",
     "output_type": "stream",
     "text": [
      "['1명']\n"
     ]
    },
    {
     "data": {
      "text/plain": [
       "['1명']"
      ]
     },
     "execution_count": 68,
     "metadata": {},
     "output_type": "execute_result"
    }
   ],
   "source": [
    "p_2 = re.compile(\"\\w*\\w\")\n",
    "re_1 = p_2.findall(str_1)\n",
    "print(re_1)\n",
    "p_2 = re.compile(\"\\w*\\w\")\n",
    "p_2.findall(str_1)\n"
   ]
  },
  {
   "cell_type": "code",
   "execution_count": 76,
   "metadata": {},
   "outputs": [],
   "source": [
    "url_main = \"https://www1.president.go.kr/petitions?page=1\"\n",
    "page_1 = []\n",
    "html = requests.get(url_main).text\n",
    "soup = BeautifulSoup(html,\"html.parser\")\n",
    "p = re.compile(\"\\w*\\w\")\n",
    "for tag in soup.select(\".wrap > .board.text .bl_body ul li\"):\n",
    "    data_1 = []\n",
    "    for tag_2 in tag.select(\".bl_wrap\"):\n",
    "        data_1.append(tag_2.find(\"div\", class_= \"bl_no\").text)\n",
    "        data_1.append(tag_2.find(\"div\",class_=\"bl_category\").text)\n",
    "        data_1.append(tag_2.select(\".bl_subject a\")[0].text)\n",
    "        data_1.append(tag_2.select(\".bl_subject a\")[0][\"href\"])\n",
    "        data_1.append(tag_2.find(\"div\",class_= \"bl_name\").text)\n",
    "        data_1.append(tag_2.find(\"div\",class_=\"bl_date light\").text)\n",
    "        agr = tag_2.find(\"div\",class_=\"bl_agree\").text\n",
    "        data_1.append(p.findall(agr)[0])\n",
    "    page_1.append(data_1)"
   ]
  },
  {
   "cell_type": "code",
   "execution_count": 77,
   "metadata": {
    "collapsed": true
   },
   "outputs": [
    {
     "data": {
      "text/plain": [
       "[['193977',\n",
       "  '인권/성평등',\n",
       "  '이 나라에서 여성에 대한 대우가 너무 낮습니다.',\n",
       "  'https://www1.president.go.kr/petitions/244788?navigation=petitions',\n",
       "  'naver - ***',\n",
       "  '18.05.26 ~ 18.06.25',\n",
       "  '0명'],\n",
       " ['193976',\n",
       "  '문화/예술/체육/언론',\n",
       "  '불교행사(석가탄일)를KBS에서 중계 부당합니다',\n",
       "  'https://www1.president.go.kr/petitions/244787?navigation=petitions',\n",
       "  'naver - ***',\n",
       "  '18.05.26 ~ 18.06.25',\n",
       "  '0명'],\n",
       " ['193975',\n",
       "  '외교/통일/국방',\n",
       "  '트럼프 탄핵 과 미국 과 외교 단절 해야합니다',\n",
       "  'https://www1.president.go.kr/petitions/244786?navigation=petitions',\n",
       "  'naver - ***',\n",
       "  '18.05.26 ~ 18.06.25',\n",
       "  '0명'],\n",
       " ['193974',\n",
       "  '외교/통일/국방',\n",
       "  \"문재인대통령님께.You doesn't look like you come fr ...\",\n",
       "  'https://www1.president.go.kr/petitions/244785?navigation=petitions',\n",
       "  'naver - ***',\n",
       "  '18.05.26 ~ 18.06.25',\n",
       "  '1명'],\n",
       " ['193973',\n",
       "  '기타',\n",
       "  '(한번만 읽어주세요..)신촌 연세대 세브란스 병원에서 ...',\n",
       "  'https://www1.president.go.kr/petitions/244784?navigation=petitions',\n",
       "  'naver - ***',\n",
       "  '18.05.26 ~ 18.06.25',\n",
       "  '0명'],\n",
       " ['193972',\n",
       "  '문화/예술/체육/언론',\n",
       "  '불교행사(석가탄일)를KBS에서 중계 부당합니다',\n",
       "  'https://www1.president.go.kr/petitions/244783?navigation=petitions',\n",
       "  'naver - ***',\n",
       "  '18.05.26 ~ 18.06.25',\n",
       "  '0명'],\n",
       " ['193971',\n",
       "  '외교/통일/국방',\n",
       "  '문재인대통령님께',\n",
       "  'https://www1.president.go.kr/petitions/244782?navigation=petitions',\n",
       "  'naver - ***',\n",
       "  '18.05.26 ~ 18.06.25',\n",
       "  '1명'],\n",
       " ['193970',\n",
       "  '문화/예술/체육/언론',\n",
       "  '불교행사(석가탄일)를KBS에서 중계 부당합니다',\n",
       "  'https://www1.president.go.kr/petitions/244781?navigation=petitions',\n",
       "  'naver - ***',\n",
       "  '18.05.26 ~ 18.06.25',\n",
       "  '0명'],\n",
       " ['193969',\n",
       "  '문화/예술/체육/언론',\n",
       "  '불교행사(석가탄일)를KBS에서 중계 부당합니다',\n",
       "  'https://www1.president.go.kr/petitions/244780?navigation=petitions',\n",
       "  'naver - ***',\n",
       "  '18.05.26 ~ 18.06.25',\n",
       "  '0명'],\n",
       " ['193968',\n",
       "  '교통/건축/국토',\n",
       "  '2종소형 운전면허시험 제도개선이 시급합니다.',\n",
       "  'https://www1.president.go.kr/petitions/244779?navigation=petitions',\n",
       "  'naver - ***',\n",
       "  '18.05.26 ~ 18.06.25',\n",
       "  '3명'],\n",
       " ['193967',\n",
       "  '정치개혁',\n",
       "  '국회의원 본회의 불참석시 임금삭감과,국민을 대신해 ...',\n",
       "  'https://www1.president.go.kr/petitions/244778?navigation=petitions',\n",
       "  'naver - ***',\n",
       "  '18.05.26 ~ 18.06.25',\n",
       "  '10명'],\n",
       " ['193966',\n",
       "  '외교/통일/국방',\n",
       "  '문재인 대통령님 사랑합니다',\n",
       "  'https://www1.president.go.kr/petitions/244777?navigation=petitions',\n",
       "  'naver - ***',\n",
       "  '18.05.26 ~ 18.06.25',\n",
       "  '9명'],\n",
       " ['193965',\n",
       "  '정치개혁',\n",
       "  '역사의멍청이 문죄인이 반드시 탄핵당해야할될 행위',\n",
       "  'https://www1.president.go.kr/petitions/244776?navigation=petitions',\n",
       "  'twitter - ***',\n",
       "  '18.05.26 ~ 18.06.25',\n",
       "  '4명'],\n",
       " ['193964',\n",
       "  '기타',\n",
       "  '꼭 한번 읽어 주시길바랍니다 부탁드립니다.',\n",
       "  'https://www1.president.go.kr/petitions/244775?navigation=petitions',\n",
       "  'facebook - ***',\n",
       "  '18.05.26 ~ 18.06.25',\n",
       "  '6명'],\n",
       " ['193963',\n",
       "  '육아/교육',\n",
       "  '중등 임용 인원을 늘려주세요',\n",
       "  'https://www1.president.go.kr/petitions/244774?navigation=petitions',\n",
       "  'naver - ***',\n",
       "  '18.05.26 ~ 18.06.25',\n",
       "  '0명']]"
      ]
     },
     "execution_count": 77,
     "metadata": {},
     "output_type": "execute_result"
    }
   ],
   "source": [
    "page_1"
   ]
  },
  {
   "cell_type": "code",
   "execution_count": 78,
   "metadata": {},
   "outputs": [
    {
     "data": {
      "text/plain": [
       "15"
      ]
     },
     "execution_count": 78,
     "metadata": {},
     "output_type": "execute_result"
    }
   ],
   "source": [
    "len(page_1)"
   ]
  },
  {
   "cell_type": "code",
   "execution_count": 75,
   "metadata": {},
   "outputs": [
    {
     "ename": "SyntaxError",
     "evalue": "can't assign to function call (<ipython-input-75-adcbc89bf696>, line 1)",
     "output_type": "error",
     "traceback": [
      "\u001b[1;36m  File \u001b[1;32m\"<ipython-input-75-adcbc89bf696>\"\u001b[1;36m, line \u001b[1;32m1\u001b[0m\n\u001b[1;33m    c(no,title) = []\u001b[0m\n\u001b[1;37m                    ^\u001b[0m\n\u001b[1;31mSyntaxError\u001b[0m\u001b[1;31m:\u001b[0m can't assign to function call\n"
     ]
    }
   ],
   "source": []
  },
  {
   "cell_type": "code",
   "execution_count": null,
   "metadata": {},
   "outputs": [],
   "source": []
  }
 ],
 "metadata": {
  "kernelspec": {
   "display_name": "Python 3",
   "language": "python",
   "name": "python3"
  },
  "language_info": {
   "codemirror_mode": {
    "name": "ipython",
    "version": 3
   },
   "file_extension": ".py",
   "mimetype": "text/x-python",
   "name": "python",
   "nbconvert_exporter": "python",
   "pygments_lexer": "ipython3",
   "version": "3.6.4"
  }
 },
 "nbformat": 4,
 "nbformat_minor": 2
}
