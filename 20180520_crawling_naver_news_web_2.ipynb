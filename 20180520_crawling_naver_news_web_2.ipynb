{
 "cells": [
  {
   "cell_type": "code",
   "execution_count": 1,
   "metadata": {},
   "outputs": [],
   "source": [
    "import pandas as pd\n",
    "import numpy as np\n",
    "import requests \n",
    "from itertools import count\n",
    "from bs4 import BeautifulSoup"
   ]
  },
  {
   "cell_type": "code",
   "execution_count": 8,
   "metadata": {},
   "outputs": [],
   "source": [
    "def url_trans(url):\n",
    "    url_main,url_params = url.split(\"?\",1)\n",
    "    url_params_2 = url_params.replace(\"&\",\",\").split(\",\")\n",
    "    del url_params_2[0]\n",
    "    data = {}\n",
    "    for index in url_params_2:\n",
    "        try:\n",
    "            key_a,value_a = index.split(\"=\",1)\n",
    "        except ValueError:\n",
    "            pass\n",
    "        if key_a == \"null\":\n",
    "            key_a = None\n",
    "        if value_a == \"null\":\n",
    "            value_a = None\n",
    "        data[key_a] = value_a\n",
    "    return data"
   ]
  },
  {
   "cell_type": "code",
   "execution_count": 9,
   "metadata": {},
   "outputs": [
    {
     "data": {
      "text/plain": [
       "{'cluster_rank': '43',\n",
       " 'de': '',\n",
       " 'docid': '',\n",
       " 'ds': '',\n",
       " 'field': '0',\n",
       " 'mynews': '0',\n",
       " 'nso': 'so:r',\n",
       " 'pd': '0',\n",
       " 'photo': '0',\n",
       " 'query': '%22%EB%8F%84%EC%8B%9C%EB%AC%B8%EC%A0%9C%22',\n",
       " 'refresh_start': '0',\n",
       " 'reporter_article': '',\n",
       " 'sm': 'tab_pge',\n",
       " 'sort': '0',\n",
       " 'start': '21',\n",
       " 'where': 'news'}"
      ]
     },
     "execution_count": 9,
     "metadata": {},
     "output_type": "execute_result"
    }
   ],
   "source": [
    "url_trans(\"https://search.naver.com/search.naver?&where=news&query=%22%EB%8F%84%EC%8B%9C%EB%AC%B8%EC%A0%9C%22&sm=tab_pge&sort=0&photo=0&field=0&reporter_article=&pd=0&ds=&de=&docid=&nso=so:r,p:all,a:all&mynews=0&cluster_rank=43&start=21&refresh_start=0\")"
   ]
  },
  {
   "cell_type": "code",
   "execution_count": 10,
   "metadata": {},
   "outputs": [
    {
     "data": {
      "text/plain": [
       "{'cluster_rank': '24',\n",
       " 'de': '',\n",
       " 'docid': '',\n",
       " 'ds': '',\n",
       " 'field': '0',\n",
       " 'mynews': '0',\n",
       " 'nso': 'so:r',\n",
       " 'pd': '0',\n",
       " 'photo': '0',\n",
       " 'query': '%EB%8F%84%EC%8B%9C%EB%AC%B8%EC%A0%9C%20%22%EB%8F%84%EC%8B%9C%EB%AC%B8%EC%A0%9C%22',\n",
       " 'refresh_start': '0',\n",
       " 'reporter_article': '',\n",
       " 'sm': 'tab_pge',\n",
       " 'sort': '0',\n",
       " 'start': '11',\n",
       " 'where': 'news'}"
      ]
     },
     "execution_count": 10,
     "metadata": {},
     "output_type": "execute_result"
    }
   ],
   "source": [
    "url_compac_2p = \"https://search.naver.com/search.naver?&where=news&query=%EB%8F%84%EC%8B%9C%EB%AC%B8%EC%A0%9C%20%22%EB%8F%84%EC%8B%9C%EB%AC%B8%EC%A0%9C%22&sm=tab_pge&sort=0&photo=0&field=0&reporter_article=&pd=0&ds=&de=&docid=&nso=so:r,p:all,a:all&mynews=0&cluster_rank=24&start=11&refresh_start=0\"\n",
    "url_trans(url_compac_2p)"
   ]
  },
  {
   "cell_type": "code",
   "execution_count": 11,
   "metadata": {},
   "outputs": [],
   "source": [
    "params = {'cluster_rank': '24',\n",
    "'de': '',\n",
    "'docid': '',\n",
    "'ds': '',\n",
    "'field': '0',\n",
    "'mynews': '0',\n",
    "#'nso': 'so:r',\n",
    "'pd': '0',\n",
    "'photo': '0',\n",
    "##'query': '%EB%8F%84%EC%8B%9C%EB%AC%B8%EC%A0%9C%20%22%EB%8F%84%EC%8B%9C%EB%AC%B8%EC%A0%9C%22',\n",
    "'refresh_start': '0',\n",
    "'reporter_article': '',\n",
    "'sm': 'tab_pge',\n",
    "'sort': '0',\n",
    "##'start': '11',\n",
    "'where': 'news'}\n",
    "\n",
    "## 'query': '검색어%22상세어%22',\n",
    "## 'start': '10* (page-1) + 1',"
   ]
  },
  {
   "cell_type": "code",
   "execution_count": 104,
   "metadata": {},
   "outputs": [
    {
     "data": {
      "text/plain": [
       "['충청뉴스  1일 전   보내기  ',\n",
       " '스포츠조선  2일 전  네이버뉴스   보내기  ',\n",
       " '제민일보  3일 전   보내기  ',\n",
       " '노컷뉴스  5일 전  네이버뉴스   보내기  ',\n",
       " 'tbs 교통방송  4일 전   보내기  ',\n",
       " 'KBS 뉴스언론사 선정  5일 전  네이버뉴스   보내기  ',\n",
       " '광주드림  6일 전   보내기  ',\n",
       " '국제신문  2018.05.11.   보내기  ',\n",
       " 'NSP통신  2018.05.10.   보내기  ',\n",
       " '미디어펜  2018.05.11.   보내기  ',\n",
       " '한라일보  2018.05.08.   보내기  ',\n",
       " '부산일보  2018.05.06.  네이버뉴스   보내기  ',\n",
       " '강원일보  2018.05.11.  네이버뉴스   보내기  ',\n",
       " '충청일보  2018.04.30.   보내기  ',\n",
       " '세계일보언론사 선정  A6면   2018.05.02.  네이버뉴스   보내기  ',\n",
       " '충청투데이  2018.04.29.   보내기  ',\n",
       " '경기일보  2018.04.25.   보내기  ',\n",
       " '중도일보  2018.04.27.   보내기  ',\n",
       " '허프포스트코리아  2018.05.02.   보내기  ',\n",
       " '정책브리핑  2018.05.10.  네이버뉴스   보내기  ',\n",
       " 'KNS뉴스통신  5시간 전   보내기  ',\n",
       " '신동아  7시간 전  네이버뉴스   보내기  ',\n",
       " 'ZDNet Korea  6시간 전  네이버뉴스   보내기  ',\n",
       " '아주경제  2018.05.02.   보내기  ',\n",
       " '한국경제TV  2018.04.30.  네이버뉴스   보내기  ',\n",
       " '쿠키뉴스  2018.05.03.   보내기  ',\n",
       " '통플러스  10시간 전   보내기  ',\n",
       " '굿모닝충청  2018.04.28.   보내기  ',\n",
       " 'MK스포츠  1일 전  네이버뉴스   보내기  ',\n",
       " '동아일보  A20면   2018.05.01.  네이버뉴스   보내기  ']"
      ]
     },
     "execution_count": 104,
     "metadata": {},
     "output_type": "execute_result"
    }
   ],
   "source": [
    "url = \"https://search.naver.com/search.naver\"\n",
    "headers = {\n",
    "    \"Referer\" : \"https://www.naver.com/\"\n",
    "}\n",
    "title_2 =[]\n",
    "date = []\n",
    "for page in range(1,4):\n",
    "    params = {\n",
    "        'cluster_rank': '24',\n",
    "        'de': '',\n",
    "        'docid': '',\n",
    "        'ds': '',\n",
    "        'field': '0',\n",
    "        'mynews': '0',\n",
    "        #'nso': 'so:r',\n",
    "        'pd': '0',\n",
    "        'photo': '0',\n",
    "        'query': '도시문제%22도시문제%22',\n",
    "        'refresh_start': '0',\n",
    "        'reporter_article': '',\n",
    "        'sm': 'tab_pge',\n",
    "        'sort': '0',\n",
    "        'start': 10*(page-1) +1,\n",
    "        'where': 'news'}\n",
    "    html = requests.get(url,params=params,headers =headers).text\n",
    "    soup = BeautifulSoup(html,\"html.parser\")\n",
    "    #print(soup)\n",
    "    for tag in soup.select(\"li dl\"):\n",
    "        for tag_2 in tag.select(\"dt a\"):\n",
    "            title_2.append(tag_2[\"title\"])\n",
    "            #print(tag_2.text)\n",
    "        for tag_2 in tag.select(\".txt_inline \"):\n",
    "            date.append(tag_2.text)\n",
    "date\n",
    "#title_2"
   ]
  },
  {
   "cell_type": "code",
   "execution_count": 63,
   "metadata": {},
   "outputs": [
    {
     "data": {
      "text/plain": [
       "(30, 30)"
      ]
     },
     "execution_count": 63,
     "metadata": {},
     "output_type": "execute_result"
    }
   ],
   "source": [
    "len(date),len(title_2)"
   ]
  },
  {
   "cell_type": "code",
   "execution_count": 69,
   "metadata": {},
   "outputs": [],
   "source": [
    "def crawling_naver_news(query,sub_query,max_page):\n",
    "    url = \"https://search.naver.com/search.naver\"\n",
    "    headers = {\n",
    "        \"Referer\" : \"https://www.naver.com/\"\n",
    "    }\n",
    "    title_2 =[]\n",
    "    date = []\n",
    "    max_p = int(max_page + 1)\n",
    "    for page in range(1,max_p):\n",
    "        params = {\n",
    "            'cluster_rank': '24',\n",
    "            'de': '',\n",
    "            'docid': '',\n",
    "            'ds': '',\n",
    "            'field': '0',\n",
    "            'mynews': '0',\n",
    "            #'nso': 'so:r',\n",
    "            'pd': '0',\n",
    "            'photo': '0',\n",
    "            'query': query + \"%22\" + sub_query +\"%22\",\n",
    "            'refresh_start': '0',\n",
    "            'reporter_article': '',\n",
    "            'sm': 'tab_pge',\n",
    "            'sort': '0',\n",
    "            'start': 10*(page-1) +1,\n",
    "            'where': 'news'}\n",
    "        #print(params)\n",
    "        html = requests.get(url,params=params,headers =headers).text\n",
    "        soup = BeautifulSoup(html,\"html.parser\")\n",
    "        for tag in soup.select(\"li dl\"):\n",
    "            for tag_2 in tag.select(\"dt a\"):\n",
    "                title_2.append(tag_2[\"title\"])\n",
    "                #print(tag_2.text)\n",
    "            for tag_2 in tag.select(\".txt_inline \"):\n",
    "                date.append(tag_2.text)\n",
    "    data = pd.DataFrame({\n",
    "        \"title\" : title_2,\n",
    "        \"etc\" : date\n",
    "        },\n",
    "        columns ={\"title\",\"etc\"})\n",
    "    return data\n"
   ]
  },
  {
   "cell_type": "code",
   "execution_count": 75,
   "metadata": {},
   "outputs": [],
   "source": [
    "database = crawling_naver_news(\"도시문제\",\"도시문제\",200)"
   ]
  },
  {
   "cell_type": "code",
   "execution_count": 79,
   "metadata": {},
   "outputs": [],
   "source": [
    "database.to_csv(\"naver_news_urbanproblem.csv\")"
   ]
  },
  {
   "cell_type": "code",
   "execution_count": null,
   "metadata": {},
   "outputs": [],
   "source": []
  },
  {
   "cell_type": "code",
   "execution_count": 90,
   "metadata": {
    "collapsed": true
   },
   "outputs": [
    {
     "data": {
      "text/plain": [
       "{'a': 'fno.journallink',\n",
       " 'f': 'news',\n",
       " 'm': '0',\n",
       " 'p': 'TwZTplpVuENssbFXL1CssssstnR-470030',\n",
       " 'px': '304',\n",
       " 'py': '176',\n",
       " 'q': '%B5%B5%BD%C3%B9%AE%C1%A6+%22%BC%AD%BF%EF%22',\n",
       " 's': 'BTH6DvKKEPt7gFi3BTgaSA==',\n",
       " 'ssc': 'tab.news.all',\n",
       " 'sx': '304',\n",
       " 'sy': '176',\n",
       " 'time': '1526798323474',\n",
       " 'w': 'news'}"
      ]
     },
     "execution_count": 90,
     "metadata": {},
     "output_type": "execute_result"
    }
   ],
   "source": [
    "url_jou = \"https://search.naver.com/p/crd/rd\"\n",
    "url_jparams = \"m=0&px=304&py=176&sx=304&sy=176&p=TwZTplpVuENssbFXL1CssssstnR-470030&q=%B5%B5%BD%C3%B9%AE%C1%A6+%22%BC%AD%BF%EF%22&ssc=tab.news.all&f=news&w=news&s=BTH6DvKKEPt7gFi3BTgaSA==&time=1526798323474&a=fno.journallink\"\n",
    "url_jparams_2 = url_jparams.replace(\"&\",\",\").replace(\":\",\"=\").split(\",\")\n",
    "params ={}\n",
    "for index in url_jparams_2:\n",
    "    key_b,value_b = index.split(\"=\",1)\n",
    "    if value_b == \"null\":\n",
    "        value_b = None\n",
    "    params[key_b] = value_b\n",
    "response = requests.get(url_jou,params = params)\n",
    "response.status_code\n"
   ]
  },
  {
   "cell_type": "code",
   "execution_count": 98,
   "metadata": {},
   "outputs": [
    {
     "data": {
      "text/plain": []
     },
     "execution_count": 98,
     "metadata": {},
     "output_type": "execute_result"
    }
   ],
   "source": []
  },
  {
   "cell_type": "code",
   "execution_count": 101,
   "metadata": {},
   "outputs": [],
   "source": [
    "jn = \"\"\"\n",
    " 경향신문  국민일보  내일신문  동아일보  매일일보  문화일보  서울신문  세계일보  아시아투데이  조선일보  중앙일보  한겨레  한국일보\n",
    " \n",
    " 가톨릭평화방송·평화신문  광주MBC  국제뉴스  그린포스트코리아  내외경제tv  내외뉴스통신  뉴스1  뉴스웍스  뉴시스  대구MBC  대전MBC  부산MBC  서울경제TV  아리랑TV  아시아뉴스통신  안동MBC  연합뉴스  연합뉴스TV  울산MBC  채널A  티브로드  한국경제TV  BTN불교TV  CMB광주방송  CMB대전방송  EBS  G1  JTBC  kbc광주방송  KBS 뉴스  KNN  KNS뉴스통신  KTV국민방송  MBC 뉴스  MBC강원영동  MBN  MTN  NSP통신  OBS  SBS CNBC  SBS 뉴스  TBC대구방송  tbs 교통방송  TJB 대전방송  TV조선  YTN  YTN라디오  YTN사이언스\n",
    " \n",
    " 건설경제신문  게임톡  게임포커스  그린데일리  글로벌이코노믹  넥스트데일리  녹색경제신문  뉴스토마토  뉴스핌  대한금융신문  더리더  더벨  데이터넷  디아이투데이  디지털데일리  디지털타임스  딜라이트닷넷  매일경제  매일경제TV  머니투데이  베타뉴스  벤처스퀘어  보안뉴스  브릿지경제  블로터  비즈니스워치  비즈니스포스트  비즈한국  서울경제  서울파이낸스  스카이데일리  시장경제신문  씨넷코리아  아시아경제  아시아타임즈  아유경제  아이뉴스24  아이티데일리  아주경제  에너지경제  에이빙뉴스  이뉴스투데이  이데일리  이투뉴스  이투데이  일간리더스경제  전자신문  조선비즈  조세일보  중소기업신문  초이스경제  케이벤치  키뉴스  테크노아  테크홀릭  투데이에너지  파이낸셜뉴스  프라임경제  한국경제  한국금융신문  헤럴드경제  CCTV뉴스  CEO스코어데일리  CIO Korea  CIOBIZ+  G밸리뉴스  ITWorld  ZDNet Korea\n",
    "\n",
    " 가톨릭프레스  건강다이제스트  게임동아  게임조선  경기도민일보  고발뉴스  골프한국  공공뉴스  공유경제신문  광고없는언론 팩트올  광명지역신문  글로벌경제  금융소비자뉴스  기계신문  노컷뉴스  뉴데일리  뉴스메이커  뉴스민  뉴스앤조이  뉴스워커  뉴스웨이  뉴스제주  뉴스타운  뉴스타파  뉴스투데이  뉴스프리존  뉴스한국  단디뉴스  대경일보  대학저널  대한전문건설신문  더퍼스트  데일리그리드  데일리스포츠한국  데일리안  데일리팜  데일리팝  데일리한국  딴지일보  로봇신문  리서치페이퍼  리얼푸드  말산업저널  매일노동뉴스  머니S  메디게이트뉴스  메디소비자뉴스  메디컬리포트  메트로신문  문화저널21  미디어오늘  미디어워치  미디어펜  민주신문  바이오스펙테이터  법률방송뉴스  봉황망코리아  불교공뉴스  불교포커스  뷰스앤뉴스  뷰어스  브레이크뉴스  비마이너  비즈트리뷴  빅데이터뉴스  산업일보  서울와이어  세계파이낸스  세종포스트  소믈리에타임즈  소비자가 만드는 신문  스페셜경제  슬로우뉴스  시민일보  시빅뉴스  시사뉴스  시사위크  시사저널이코노미  시사포커스  시선뉴스  아시아엔\"\"\""
   ]
  },
  {
   "cell_type": "code",
   "execution_count": 106,
   "metadata": {},
   "outputs": [
    {
     "data": {
      "text/plain": [
       "['경향신문',\n",
       " '국민일보',\n",
       " '내일신문',\n",
       " '동아일보',\n",
       " '매일일보',\n",
       " '문화일보',\n",
       " '서울신문',\n",
       " '세계일보',\n",
       " '아시아투데이',\n",
       " '조선일보',\n",
       " '중앙일보',\n",
       " '한겨레',\n",
       " '한국일보',\n",
       " '가톨릭평화방송·평화신문',\n",
       " '광주MBC',\n",
       " '국제뉴스',\n",
       " '그린포스트코리아',\n",
       " '내외경제tv',\n",
       " '내외뉴스통신',\n",
       " '뉴스1',\n",
       " '뉴스웍스',\n",
       " '뉴시스',\n",
       " '대구MBC',\n",
       " '대전MBC',\n",
       " '부산MBC',\n",
       " '서울경제TV',\n",
       " '아리랑TV',\n",
       " '아시아뉴스통신',\n",
       " '안동MBC',\n",
       " '연합뉴스',\n",
       " '연합뉴스TV',\n",
       " '울산MBC',\n",
       " '채널A',\n",
       " '티브로드',\n",
       " '한국경제TV',\n",
       " 'BTN불교TV',\n",
       " 'CMB광주방송',\n",
       " 'CMB대전방송',\n",
       " 'EBS',\n",
       " 'G1',\n",
       " 'JTBC',\n",
       " 'kbc광주방송',\n",
       " 'KBS',\n",
       " '뉴스',\n",
       " 'KNN',\n",
       " 'KNS뉴스통신',\n",
       " 'KTV국민방송',\n",
       " 'MBC',\n",
       " '뉴스',\n",
       " 'MBC강원영동',\n",
       " 'MBN',\n",
       " 'MTN',\n",
       " 'NSP통신',\n",
       " 'OBS',\n",
       " 'SBS',\n",
       " 'CNBC',\n",
       " 'SBS',\n",
       " '뉴스',\n",
       " 'TBC대구방송',\n",
       " 'tbs',\n",
       " '교통방송',\n",
       " 'TJB',\n",
       " '대전방송',\n",
       " 'TV조선',\n",
       " 'YTN',\n",
       " 'YTN라디오',\n",
       " 'YTN사이언스',\n",
       " '건설경제신문',\n",
       " '게임톡',\n",
       " '게임포커스',\n",
       " '그린데일리',\n",
       " '글로벌이코노믹',\n",
       " '넥스트데일리',\n",
       " '녹색경제신문',\n",
       " '뉴스토마토',\n",
       " '뉴스핌',\n",
       " '대한금융신문',\n",
       " '더리더',\n",
       " '더벨',\n",
       " '데이터넷',\n",
       " '디아이투데이',\n",
       " '디지털데일리',\n",
       " '디지털타임스',\n",
       " '딜라이트닷넷',\n",
       " '매일경제',\n",
       " '매일경제TV',\n",
       " '머니투데이',\n",
       " '베타뉴스',\n",
       " '벤처스퀘어',\n",
       " '보안뉴스',\n",
       " '브릿지경제',\n",
       " '블로터',\n",
       " '비즈니스워치',\n",
       " '비즈니스포스트',\n",
       " '비즈한국',\n",
       " '서울경제',\n",
       " '서울파이낸스',\n",
       " '스카이데일리',\n",
       " '시장경제신문',\n",
       " '씨넷코리아',\n",
       " '아시아경제',\n",
       " '아시아타임즈',\n",
       " '아유경제',\n",
       " '아이뉴스24',\n",
       " '아이티데일리',\n",
       " '아주경제',\n",
       " '에너지경제',\n",
       " '에이빙뉴스',\n",
       " '이뉴스투데이',\n",
       " '이데일리',\n",
       " '이투뉴스',\n",
       " '이투데이',\n",
       " '일간리더스경제',\n",
       " '전자신문',\n",
       " '조선비즈',\n",
       " '조세일보',\n",
       " '중소기업신문',\n",
       " '초이스경제',\n",
       " '케이벤치',\n",
       " '키뉴스',\n",
       " '테크노아',\n",
       " '테크홀릭',\n",
       " '투데이에너지',\n",
       " '파이낸셜뉴스',\n",
       " '프라임경제',\n",
       " '한국경제',\n",
       " '한국금융신문',\n",
       " '헤럴드경제',\n",
       " 'CCTV뉴스',\n",
       " 'CEO스코어데일리',\n",
       " 'CIO',\n",
       " 'Korea',\n",
       " 'CIOBIZ+',\n",
       " 'G밸리뉴스',\n",
       " 'ITWorld',\n",
       " 'ZDNet',\n",
       " 'Korea',\n",
       " '가톨릭프레스',\n",
       " '건강다이제스트',\n",
       " '게임동아',\n",
       " '게임조선',\n",
       " '경기도민일보',\n",
       " '고발뉴스',\n",
       " '골프한국',\n",
       " '공공뉴스',\n",
       " '공유경제신문',\n",
       " '광고없는언론',\n",
       " '팩트올',\n",
       " '광명지역신문',\n",
       " '글로벌경제',\n",
       " '금융소비자뉴스',\n",
       " '기계신문',\n",
       " '노컷뉴스',\n",
       " '뉴데일리',\n",
       " '뉴스메이커',\n",
       " '뉴스민',\n",
       " '뉴스앤조이',\n",
       " '뉴스워커',\n",
       " '뉴스웨이',\n",
       " '뉴스제주',\n",
       " '뉴스타운',\n",
       " '뉴스타파',\n",
       " '뉴스투데이',\n",
       " '뉴스프리존',\n",
       " '뉴스한국',\n",
       " '단디뉴스',\n",
       " '대경일보',\n",
       " '대학저널',\n",
       " '대한전문건설신문',\n",
       " '더퍼스트',\n",
       " '데일리그리드',\n",
       " '데일리스포츠한국',\n",
       " '데일리안',\n",
       " '데일리팜',\n",
       " '데일리팝',\n",
       " '데일리한국',\n",
       " '딴지일보',\n",
       " '로봇신문',\n",
       " '리서치페이퍼',\n",
       " '리얼푸드',\n",
       " '말산업저널',\n",
       " '매일노동뉴스',\n",
       " '머니S',\n",
       " '메디게이트뉴스',\n",
       " '메디소비자뉴스',\n",
       " '메디컬리포트',\n",
       " '메트로신문',\n",
       " '문화저널21',\n",
       " '미디어오늘',\n",
       " '미디어워치',\n",
       " '미디어펜',\n",
       " '민주신문',\n",
       " '바이오스펙테이터',\n",
       " '법률방송뉴스',\n",
       " '봉황망코리아',\n",
       " '불교공뉴스',\n",
       " '불교포커스',\n",
       " '뷰스앤뉴스',\n",
       " '뷰어스',\n",
       " '브레이크뉴스',\n",
       " '비마이너',\n",
       " '비즈트리뷴',\n",
       " '빅데이터뉴스',\n",
       " '산업일보',\n",
       " '서울와이어',\n",
       " '세계파이낸스',\n",
       " '세종포스트',\n",
       " '소믈리에타임즈',\n",
       " '소비자가',\n",
       " '만드는',\n",
       " '신문',\n",
       " '스페셜경제',\n",
       " '슬로우뉴스',\n",
       " '시민일보',\n",
       " '시빅뉴스',\n",
       " '시사뉴스',\n",
       " '시사위크',\n",
       " '시사저널이코노미',\n",
       " '시사포커스',\n",
       " '시선뉴스',\n",
       " '아시아엔',\n",
       " '보내기']"
      ]
     },
     "execution_count": 106,
     "metadata": {},
     "output_type": "execute_result"
    }
   ],
   "source": [
    "jn_2 = jn.split()\n",
    "jn_2\n"
   ]
  },
  {
   "cell_type": "code",
   "execution_count": 114,
   "metadata": {},
   "outputs": [
    {
     "data": {
      "text/plain": [
       "[['충청뉴스', '1일', '전'],\n",
       " ['스포츠조선', '2일', '전', '네이버뉴스'],\n",
       " ['제민일보', '3일', '전'],\n",
       " ['5일', '전', '네이버뉴스'],\n",
       " ['교통방송', '4일', '전'],\n",
       " ['뉴스언론사', '5일', '네이버뉴스'],\n",
       " ['광주드림', '6일', '전'],\n",
       " ['국제신문', '2018.05.11.'],\n",
       " ['2018.05.10.'],\n",
       " ['2018.05.11.'],\n",
       " ['한라일보', '2018.05.08.'],\n",
       " ['부산일보', '2018.05.06.', '네이버뉴스'],\n",
       " ['강원일보', '2018.05.11.', '네이버뉴스'],\n",
       " ['충청일보', '2018.04.30.'],\n",
       " ['세계일보언론사', 'A6면', '2018.05.02.', '네이버뉴스'],\n",
       " ['충청투데이', '2018.04.29.'],\n",
       " ['경기일보', '2018.04.25.'],\n",
       " ['중도일보', '2018.04.27.'],\n",
       " ['허프포스트코리아', '2018.05.02.'],\n",
       " ['정책브리핑', '2018.05.10.', '네이버뉴스'],\n",
       " ['5시간', '전'],\n",
       " ['신동아', '7시간', '전', '네이버뉴스'],\n",
       " ['Korea', '6시간', '전', '네이버뉴스'],\n",
       " ['2018.05.02.'],\n",
       " ['2018.04.30.', '네이버뉴스'],\n",
       " ['쿠키뉴스', '2018.05.03.'],\n",
       " ['통플러스', '10시간', '전'],\n",
       " ['굿모닝충청', '2018.04.28.'],\n",
       " ['MK스포츠', '1일', '전', '네이버뉴스'],\n",
       " ['A20면', '2018.05.01.', '네이버뉴스']]"
      ]
     },
     "execution_count": 114,
     "metadata": {},
     "output_type": "execute_result"
    }
   ],
   "source": [
    "date_2 = []\n",
    "for i in date:\n",
    "    d_1 = i.split()\n",
    "    for d_2 in d_1:\n",
    "        if d_2 in jn_2:\n",
    "            d_1.remove(d_2)\n",
    "        try:\n",
    "            d_1.remove(\"보내기\")\n",
    "            d_1.remove(\"선정\")\n",
    "            d_1.remove(\"전\")\n",
    "        except ValueError:\n",
    "            pass\n",
    "    date_2.append(d_1)\n",
    "date_2"
   ]
  },
  {
   "cell_type": "code",
   "execution_count": 112,
   "metadata": {},
   "outputs": [
    {
     "ename": "ValueError",
     "evalue": "list.remove(x): x not in list",
     "output_type": "error",
     "traceback": [
      "\u001b[1;31m---------------------------------------------------------------------------\u001b[0m",
      "\u001b[1;31mValueError\u001b[0m                                Traceback (most recent call last)",
      "\u001b[1;32m<ipython-input-112-0048287cba2f>\u001b[0m in \u001b[0;36m<module>\u001b[1;34m()\u001b[0m\n\u001b[0;32m      1\u001b[0m \u001b[0mlist\u001b[0m \u001b[1;33m=\u001b[0m \u001b[1;33m[\u001b[0m\u001b[1;34m\"a\"\u001b[0m\u001b[1;33m]\u001b[0m\u001b[1;33m\u001b[0m\u001b[0m\n\u001b[1;32m----> 2\u001b[1;33m \u001b[0mlist\u001b[0m\u001b[1;33m.\u001b[0m\u001b[0mremove\u001b[0m\u001b[1;33m(\u001b[0m\u001b[1;34m\"b\"\u001b[0m\u001b[1;33m)\u001b[0m\u001b[1;33m\u001b[0m\u001b[0m\n\u001b[0m",
      "\u001b[1;31mValueError\u001b[0m: list.remove(x): x not in list"
     ]
    }
   ],
   "source": [
    "list = [\"a\"]\n",
    "list.remove(\"b\")"
   ]
  },
  {
   "cell_type": "code",
   "execution_count": null,
   "metadata": {},
   "outputs": [],
   "source": []
  }
 ],
 "metadata": {
  "kernelspec": {
   "display_name": "Python 3",
   "language": "python",
   "name": "python3"
  },
  "language_info": {
   "codemirror_mode": {
    "name": "ipython",
    "version": 3
   },
   "file_extension": ".py",
   "mimetype": "text/x-python",
   "name": "python",
   "nbconvert_exporter": "python",
   "pygments_lexer": "ipython3",
   "version": "3.6.4"
  }
 },
 "nbformat": 4,
 "nbformat_minor": 2
}
